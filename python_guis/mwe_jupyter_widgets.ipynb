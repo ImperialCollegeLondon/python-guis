{
 "cells": [
  {
   "cell_type": "code",
   "execution_count": null,
   "metadata": {
    "pycharm": {
     "name": "#%%\n"
    }
   },
   "outputs": [],
   "source": [
    "import ipywidgets as widgets\n",
    "from IPython.display import display\n",
    "\n",
    "def on_button_clicked(button):\n",
    "    label.value = \"Hello Pythoners!\"\n",
    "\n",
    "# Create the widgets.\n",
    "button = widgets.Button(description=\"Click me\")\n",
    "label = widgets.Label(value='')\n",
    "hbox = widgets.HBox()\n",
    "\n",
    "# Add them to a container. This includes setting their physical arrangement. \n",
    "hbox.children=[button, label]\n",
    "\n",
    "# Add the callback of the button.\n",
    "button.on_click(on_button_clicked)\n",
    "\n",
    "# Display the top container.\n",
    "display(hbox)"
   ]
  }
 ],
 "metadata": {
  "kernelspec": {
   "display_name": "Python 3",
   "language": "python",
   "name": "python3"
  },
  "language_info": {
   "codemirror_mode": {
    "name": "ipython",
    "version": 3
   },
   "file_extension": ".py",
   "mimetype": "text/x-python",
   "name": "python",
   "nbconvert_exporter": "python",
   "pygments_lexer": "ipython3",
   "version": "3.7.3"
  },
  "pycharm": {
   "stem_cell": {
    "cell_type": "raw",
    "metadata": {
     "collapsed": false
    },
    "source": []
   }
  }
 },
 "nbformat": 4,
 "nbformat_minor": 2
}
