{
 "cells": [
  {
   "cell_type": "code",
   "execution_count": null,
   "metadata": {},
   "outputs": [],
   "source": [
    "%matplotlib notebook\n",
    "import ipywidgets as widgets\n",
    "\n",
    "import matplotlib.pyplot as plt\n",
    "import numpy as np\n",
    "\n",
    "\n",
    "def on_canvas_click(event):\n",
    "    if event.inaxes:\n",
    "        event.inaxes.plot([event.xdata], [event.ydata], marker=\"o\", color=\"r\")\n",
    "        event.canvas.draw()\n",
    "\n",
    "\n",
    "data = np.random.random((10, 10))\n",
    "\n",
    "# Create the widgets and display the top container.\n",
    "label = widgets.Label(value=\"Click on the plot as many times as you want!\")\n",
    "out1 = widgets.Output()\n",
    "hbox = widgets.HBox(children=[label, out1])\n",
    "display(hbox)\n",
    "\n",
    "# Define what should be shown in the Output widget\n",
    "with out1:\n",
    "    fig, axes = plt.subplots()\n",
    "    axes.imshow(data)\n",
    "    fig.canvas.mpl_connect(\"button_press_event\", on_canvas_click)\n",
    "    fig.canvas.draw()"
   ]
  }
 ],
 "metadata": {
  "kernelspec": {
   "display_name": "Python 3",
   "language": "python",
   "name": "python3"
  },
  "language_info": {
   "codemirror_mode": {
    "name": "ipython",
    "version": 3
   },
   "file_extension": ".py",
   "mimetype": "text/x-python",
   "name": "python",
   "nbconvert_exporter": "python",
   "pygments_lexer": "ipython3",
   "version": "3.7.3"
  }
 },
 "nbformat": 4,
 "nbformat_minor": 2
}
