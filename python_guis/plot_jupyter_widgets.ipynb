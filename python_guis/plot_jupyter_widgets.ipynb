{
 "cells": [
  {
   "cell_type": "markdown",
   "metadata": {},
   "source": [
    "# Jupyter Widgets"
   ]
  },
  {
   "cell_type": "code",
   "execution_count": null,
   "metadata": {
    "scrolled": false
   },
   "outputs": [],
   "source": [
    "% matplotlib notebook\n",
    "import ipywidgets as widgets\n",
    "\n",
    "import matplotlib.pyplot as plt\n",
    "import numpy as np\n",
    "\n",
    "\n",
    "def on_canvas_click(event):\n",
    "    if event.inaxes:\n",
    "        event.inaxes.plot([event.xdata], [event.ydata], marker=\"o\", color=\"r\")\n",
    "        event.canvas.draw()\n",
    "\n",
    "\n",
    "data = np.random.random((10, 10))\n",
    "\n",
    "# Create the widgets and display the top container.\n",
    "label = widgets.Label(value=\"Click on the plot as many times as you want!\")\n",
    "out1 = widgets.Output()\n",
    "hbox = widgets.HBox(children=[label, out1])\n",
    "display(hbox)\n",
    "\n",
    "# Define what should be shown in the Output widget\n",
    "with out1:\n",
    "    fig, axes = plt.subplots()\n",
    "    axes.imshow(data)\n",
    "    fig.canvas.mpl_connect(\"button_press_event\", on_canvas_click)\n",
    "    fig.canvas.draw()"
   ]
  },
  {
   "cell_type": "markdown",
   "metadata": {},
   "source": [
    "# Tkinter"
   ]
  },
  {
   "cell_type": "code",
   "execution_count": null,
   "metadata": {},
   "outputs": [],
   "source": [
    "import tkinter as tk\n",
    "import tkinter.ttk as ttk\n",
    "\n",
    "from matplotlib.backends.backend_tkagg import FigureCanvasTkAgg, NavigationToolbar2Tk\n",
    "from matplotlib.figure import Figure\n",
    "import numpy as np\n",
    "\n",
    "\n",
    "def on_canvas_click(event):\n",
    "    if event.inaxes:\n",
    "        event.inaxes.plot([event.xdata], [event.ydata], marker=\"o\", color=\"r\")\n",
    "        event.canvas.draw()\n",
    "\n",
    "\n",
    "data = np.random.random((10, 10))\n",
    "\n",
    "# Create the widgets.\n",
    "root = tk.Tk()\n",
    "ttk.Label(root, text=\"Click on the plot as many times as you want!\").pack(side=tk.LEFT)\n",
    "\n",
    "# Create the figure.\n",
    "fig = Figure()\n",
    "axes = fig.add_subplot()\n",
    "axes.imshow(data)\n",
    "\n",
    "# And use the Tkinter version of the canvas and the toolbar.\n",
    "# Both need to be packed (or grid) as with any other widget.\n",
    "canvas = FigureCanvasTkAgg(fig, master=root)\n",
    "canvas.get_tk_widget().pack(side=tk.LEFT)\n",
    "canvas.mpl_connect(\"button_press_event\", on_canvas_click)\n",
    "canvas.draw()\n",
    "\n",
    "toolbar = NavigationToolbar2Tk(canvas, root)\n",
    "canvas.get_tk_widget().pack(side=tk.TOP)\n",
    "toolbar.update()\n",
    "\n",
    "# Run the main window loop, which starts the program.\n",
    "root.mainloop()"
   ]
  },
  {
   "cell_type": "markdown",
   "metadata": {},
   "source": [
    "# Kivy"
   ]
  },
  {
   "cell_type": "code",
   "execution_count": 1,
   "metadata": {},
   "outputs": [
    {
     "name": "stderr",
     "output_type": "stream",
     "text": [
      "[WARNING] [Config      ] Older configuration version detected (21 instead of 20)\n",
      "[WARNING] [Config      ] Upgrading configuration in progress.\n",
      "[INFO   ] [Logger      ] Record log in /Users/dalonsoa/.kivy/logs/kivy_19-07-18_9.txt\n",
      "[INFO   ] [Kivy        ] v1.10.1\n",
      "[INFO   ] [Python      ] v3.7.3 (default, Mar 27 2019, 09:23:15) \n",
      "[Clang 10.0.1 (clang-1001.0.46.3)]\n",
      "[INFO   ] [Factory     ] 194 symbols loaded\n",
      "[INFO   ] [Image       ] Providers: img_tex, img_imageio, img_dds, img_sdl2, img_pil, img_gif (img_ffpyplayer ignored)\n",
      "[INFO   ] [Text        ] Provider: sdl2\n",
      "[INFO   ] [Window      ] Provider: sdl2\n",
      "[INFO   ] [GL          ] Using the \"OpenGL ES 2\" graphics system\n",
      "[INFO   ] [GL          ] Backend used <gl>\n",
      "[INFO   ] [GL          ] OpenGL version <b'2.1 INTEL-12.9.22'>\n",
      "[INFO   ] [GL          ] OpenGL vendor <b'Intel Inc.'>\n",
      "[INFO   ] [GL          ] OpenGL renderer <b'Intel(R) Iris(TM) Plus Graphics 655'>\n",
      "[INFO   ] [GL          ] OpenGL parsed version: 2, 1\n",
      "[INFO   ] [GL          ] Shading version <b'1.20'>\n",
      "[INFO   ] [GL          ] Texture max size <16384>\n",
      "[INFO   ] [GL          ] Texture max units <16>\n",
      "[INFO   ] [Window      ] auto add sdl2 input provider\n",
      "[INFO   ] [Window      ] virtual keyboard not allowed, single mode, not docked\n"
     ]
    },
    {
     "ename": "AttributeError",
     "evalue": "'NoneType' object has no attribute 'imshow'",
     "output_type": "error",
     "traceback": [
      "\u001b[0;31m---------------------------------------------------------------------------\u001b[0m",
      "\u001b[0;31mAttributeError\u001b[0m                            Traceback (most recent call last)",
      "\u001b[0;32m<ipython-input-1-bcf3a5213282>\u001b[0m in \u001b[0;36m<module>\u001b[0;34m\u001b[0m\n\u001b[1;32m     55\u001b[0m     \u001b[0mConfig\u001b[0m\u001b[0;34m.\u001b[0m\u001b[0mset\u001b[0m\u001b[0;34m(\u001b[0m\u001b[0;34m\"graphics\"\u001b[0m\u001b[0;34m,\u001b[0m \u001b[0;34m\"fullscreen\"\u001b[0m\u001b[0;34m,\u001b[0m \u001b[0;34m\"0\"\u001b[0m\u001b[0;34m)\u001b[0m\u001b[0;34m\u001b[0m\u001b[0;34m\u001b[0m\u001b[0m\n\u001b[1;32m     56\u001b[0m \u001b[0;34m\u001b[0m\u001b[0m\n\u001b[0;32m---> 57\u001b[0;31m     \u001b[0mHelloApp\u001b[0m\u001b[0;34m(\u001b[0m\u001b[0;34m)\u001b[0m\u001b[0;34m.\u001b[0m\u001b[0mrun\u001b[0m\u001b[0;34m(\u001b[0m\u001b[0;34m)\u001b[0m\u001b[0;34m\u001b[0m\u001b[0;34m\u001b[0m\u001b[0m\n\u001b[0m",
      "\u001b[0;32m/usr/local/lib/python3.7/site-packages/kivy/app.py\u001b[0m in \u001b[0;36mrun\u001b[0;34m(self)\u001b[0m\n\u001b[1;32m    798\u001b[0m             \u001b[0mself\u001b[0m\u001b[0;34m.\u001b[0m\u001b[0mload_config\u001b[0m\u001b[0;34m(\u001b[0m\u001b[0;34m)\u001b[0m\u001b[0;34m\u001b[0m\u001b[0;34m\u001b[0m\u001b[0m\n\u001b[1;32m    799\u001b[0m             \u001b[0mself\u001b[0m\u001b[0;34m.\u001b[0m\u001b[0mload_kv\u001b[0m\u001b[0;34m(\u001b[0m\u001b[0mfilename\u001b[0m\u001b[0;34m=\u001b[0m\u001b[0mself\u001b[0m\u001b[0;34m.\u001b[0m\u001b[0mkv_file\u001b[0m\u001b[0;34m)\u001b[0m\u001b[0;34m\u001b[0m\u001b[0;34m\u001b[0m\u001b[0m\n\u001b[0;32m--> 800\u001b[0;31m             \u001b[0mroot\u001b[0m \u001b[0;34m=\u001b[0m \u001b[0mself\u001b[0m\u001b[0;34m.\u001b[0m\u001b[0mbuild\u001b[0m\u001b[0;34m(\u001b[0m\u001b[0;34m)\u001b[0m\u001b[0;34m\u001b[0m\u001b[0;34m\u001b[0m\u001b[0m\n\u001b[0m\u001b[1;32m    801\u001b[0m             \u001b[0;32mif\u001b[0m \u001b[0mroot\u001b[0m\u001b[0;34m:\u001b[0m\u001b[0;34m\u001b[0m\u001b[0;34m\u001b[0m\u001b[0m\n\u001b[1;32m    802\u001b[0m                 \u001b[0mself\u001b[0m\u001b[0;34m.\u001b[0m\u001b[0mroot\u001b[0m \u001b[0;34m=\u001b[0m \u001b[0mroot\u001b[0m\u001b[0;34m\u001b[0m\u001b[0;34m\u001b[0m\u001b[0m\n",
      "\u001b[0;32m<ipython-input-1-bcf3a5213282>\u001b[0m in \u001b[0;36mbuild\u001b[0;34m(self)\u001b[0m\n\u001b[1;32m     30\u001b[0m         \u001b[0mfig\u001b[0m \u001b[0;34m=\u001b[0m \u001b[0mFigure\u001b[0m\u001b[0;34m(\u001b[0m\u001b[0;34m)\u001b[0m\u001b[0;34m\u001b[0m\u001b[0;34m\u001b[0m\u001b[0m\n\u001b[1;32m     31\u001b[0m         \u001b[0maxes\u001b[0m \u001b[0;34m=\u001b[0m \u001b[0mfig\u001b[0m\u001b[0;34m.\u001b[0m\u001b[0madd_subplot\u001b[0m\u001b[0;34m(\u001b[0m\u001b[0;34m)\u001b[0m\u001b[0;34m\u001b[0m\u001b[0;34m\u001b[0m\u001b[0m\n\u001b[0;32m---> 32\u001b[0;31m         \u001b[0maxes\u001b[0m\u001b[0;34m.\u001b[0m\u001b[0mimshow\u001b[0m\u001b[0;34m(\u001b[0m\u001b[0mdata\u001b[0m\u001b[0;34m)\u001b[0m\u001b[0;34m\u001b[0m\u001b[0;34m\u001b[0m\u001b[0m\n\u001b[0m\u001b[1;32m     33\u001b[0m         \u001b[0mcanvas\u001b[0m \u001b[0;34m=\u001b[0m \u001b[0mFigureCanvasKivyAgg\u001b[0m\u001b[0;34m(\u001b[0m\u001b[0mfig\u001b[0m\u001b[0;34m)\u001b[0m\u001b[0;34m\u001b[0m\u001b[0;34m\u001b[0m\u001b[0m\n\u001b[1;32m     34\u001b[0m         \u001b[0mnav\u001b[0m \u001b[0;34m=\u001b[0m \u001b[0mNavigationToolbar2Kivy\u001b[0m\u001b[0;34m(\u001b[0m\u001b[0mcanvas\u001b[0m\u001b[0;34m)\u001b[0m\u001b[0;34m\u001b[0m\u001b[0;34m\u001b[0m\u001b[0m\n",
      "\u001b[0;31mAttributeError\u001b[0m: 'NoneType' object has no attribute 'imshow'"
     ]
    }
   ],
   "source": [
    "from kivy.garden.matplotlib.backend_kivyagg import (\n",
    "    FigureCanvasKivyAgg,\n",
    "    NavigationToolbar2Kivy,\n",
    ")\n",
    "from kivy.app import App\n",
    "from kivy.uix.label import Label\n",
    "from kivy.uix.boxlayout import BoxLayout\n",
    "\n",
    "from matplotlib.figure import Figure\n",
    "import numpy as np\n",
    "\n",
    "\n",
    "def on_canvas_click(event):\n",
    "    if event.inaxes:\n",
    "        event.inaxes.plot([event.xdata], [event.ydata], marker=\"o\", color=\"r\")\n",
    "        event.canvas.draw()\n",
    "\n",
    "\n",
    "# Create main application.\n",
    "class HelloApp(App):\n",
    "    def build(self):\n",
    "        data = np.random.random((10, 10))\n",
    "\n",
    "        # Create the widgets. We need a vertical box to arrange the navigation toolbar\n",
    "        hbox = BoxLayout()\n",
    "        vbox = BoxLayout(orientation=\"vertical\")\n",
    "        label = Label(text=\"Click on the plot as many times as you want!\")\n",
    "\n",
    "        # Create the figure.\n",
    "        fig = Figure()\n",
    "        axes = fig.add_subplot()\n",
    "        axes.imshow(data)\n",
    "        canvas = FigureCanvasKivyAgg(fig)\n",
    "        nav = NavigationToolbar2Kivy(canvas)\n",
    "\n",
    "        # Add them to a container.\n",
    "        vbox.add_widget(canvas)\n",
    "        vbox.add_widget(nav.actionbar)\n",
    "        hbox.add_widget(label)\n",
    "        hbox.add_widget(vbox)\n",
    "\n",
    "        # Add the callback of the canvas.\n",
    "        canvas.mpl_connect(\"button_press_event\", on_canvas_click)\n",
    "        canvas.draw()\n",
    "\n",
    "        # Return the top container. This can be any widget\n",
    "        return hbox\n",
    "\n",
    "\n",
    "# Run the main windoow loop, which starts the program.\n",
    "if __name__ == \"__main__\":\n",
    "    from kivy.config import Config\n",
    "\n",
    "    # We don't want a fullscreen App here.\n",
    "    Config.set(\"graphics\", \"fullscreen\", \"0\")\n",
    "\n",
    "    HelloApp().run()"
   ]
  },
  {
   "cell_type": "code",
   "execution_count": null,
   "metadata": {},
   "outputs": [],
   "source": []
  }
 ],
 "metadata": {
  "kernelspec": {
   "display_name": "Python 3",
   "language": "python",
   "name": "python3"
  },
  "language_info": {
   "codemirror_mode": {
    "name": "ipython",
    "version": 3
   },
   "file_extension": ".py",
   "mimetype": "text/x-python",
   "name": "python",
   "nbconvert_exporter": "python",
   "pygments_lexer": "ipython3",
   "version": "3.7.3"
  }
 },
 "nbformat": 4,
 "nbformat_minor": 2
}
