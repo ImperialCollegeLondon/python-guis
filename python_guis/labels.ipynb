{
 "cells": [
  {
   "cell_type": "code",
   "execution_count": 3,
   "metadata": {
    "pycharm": {
     "name": "#%%\n"
    }
   },
   "outputs": [
    {
     "name": "stdout",
     "output_type": "stream",
     "text": [
      "['_dom_classes', '_model_module', '_model_module_version', '_model_name', '_view_count', '_view_module', '_view_module_version', '_view_name', 'button_style', 'description', 'disabled', 'icon', 'layout', 'style', 'tooltip']\n"
     ]
    },
    {
     "data": {
      "application/vnd.jupyter.widget-view+json": {
       "model_id": "4a633ff8b5294dbfa6c3bb89b9074a92",
       "version_major": 2,
       "version_minor": 0
      },
      "text/plain": [
       "Button(description='Click me', icon='check', style=ButtonStyle(), tooltip='Click me')"
      ]
     },
     "metadata": {},
     "output_type": "display_data"
    }
   ],
   "source": [
    "import ipywidgets as widgets\n",
    "from IPython.display import display\n",
    "\n",
    "# Button definition\n",
    "# https://ipywidgets.readthedocs.io/en/stable/examples/Widget%20List.html#Button\n",
    "label = widgets.Label(value='Hello World!')\n",
    "\n",
    "# Display the button.\n",
    "display(label)\n",
    "\n",
    "# The widget is displayed as soon as you execute the cell"
   ]
  },
  {
   "cell_type": "markdown",
   "metadata": {},
   "source": [
    "### WARNING: Tkinter and kivy _might_ freeze the kernel if executed within Jupyter.\n",
    "\n",
    "# Tkinter"
   ]
  },
  {
   "cell_type": "code",
   "execution_count": 1,
   "metadata": {
    "pycharm": {
     "is_executing": false
    }
   },
   "outputs": [],
   "source": [
    "import tkinter as tk\n",
    "from tkinter import ttk\n",
    "\n",
    "# Create main window.\n",
    "root = tk.Tk()\n",
    "\n",
    "# Create a button. The callback is added during creation. \n",
    "label = ttk.Label(master=root, text='Hello World!')\n",
    "\n",
    "# Display the button.\n",
    "label.grid()\n",
    "\n",
    "# Run the main window loop, which starts the program.\n",
    "root.mainloop()"
   ]
  },
  {
   "cell_type": "markdown",
   "metadata": {},
   "source": [
    "# Kivy\n"
   ]
  },
  {
   "cell_type": "code",
   "execution_count": 1,
   "metadata": {
    "pycharm": {
     "is_executing": false
    }
   },
   "outputs": [
    {
     "name": "stderr",
     "text": [
      "[INFO   ] [Logger      ] Record log in /Users/dalonsoa/.kivy/logs/kivy_19-07-03_45.txt\n",
      "[INFO   ] [Kivy        ] v1.11.1\n",
      "[INFO   ] [Kivy        ] Installed at \"/Users/dalonsoa/Documents/Projects/PYTHON-GUIS/venv/lib/python3.7/site-packages/kivy/__init__.py\"\n",
      "[INFO   ] [Python      ] v3.7.3 (default, Mar 27 2019, 09:23:15) \n[Clang 10.0.1 (clang-1001.0.46.3)]\n",
      "[INFO   ] [Python      ] Interpreter at \"/Users/dalonsoa/Documents/Projects/PYTHON-GUIS/venv/bin/python\"\n",
      "[INFO   ] [Factory     ] 184 symbols loaded\n",
      "[INFO   ] [Image       ] Providers: img_tex, img_imageio, img_dds, img_sdl2, img_gif (img_pil, img_ffpyplayer ignored)\n",
      "[INFO   ] [Text        ] Provider: sdl2\n",
      "[INFO   ] [Window      ] Provider: sdl2\n",
      "[INFO   ] [GL          ] Using the \"OpenGL ES 2\" graphics system\n",
      "[INFO   ] [GL          ] Backend used <sdl2>\n",
      "[INFO   ] [GL          ] OpenGL version <b'2.1 INTEL-12.9.22'>\n",
      "[INFO   ] [GL          ] OpenGL vendor <b'Intel Inc.'>\n",
      "[INFO   ] [GL          ] OpenGL renderer <b'Intel(R) Iris(TM) Plus Graphics 655'>\n",
      "[INFO   ] [GL          ] OpenGL parsed version: 2, 1\n",
      "[INFO   ] [GL          ] Shading version <b'1.20'>\n",
      "[INFO   ] [GL          ] Texture max size <16384>\n",
      "[INFO   ] [GL          ] Texture max units <16>\n",
      "[INFO   ] [Window      ] auto add sdl2 input provider\n",
      "[INFO   ] [Window      ] virtual keyboard not allowed, single mode, not docked\n",
      "[INFO   ] [Base        ] Start application main loop\n",
      "[INFO   ] [GL          ] NPOT texture support is available\n",
      "[INFO   ] [WindowSDL   ] exiting mainloop and closing.\n",
      "[INFO   ] [Base        ] Leaving application in progress...\n"
     ],
     "output_type": "stream"
    }
   ],
   "source": [
    "from kivy.config import Config\n",
    "# We don't want a fullscreen App here.\n",
    "Config.set('graphics', 'fullscreen', '0')\n",
    "\n",
    "from kivy.app import App\n",
    "from kivy.uix.label import Label\n",
    "\n",
    "        \n",
    "# Create main application.\n",
    "class ButtonApp(App):\n",
    "    def build(self):\n",
    "        \n",
    "        # Create a Label.\n",
    "        # https://kivy.org/doc/stable/api-kivy.uix.label.html\n",
    "        label = Label(text='Hello World!')\n",
    "        \n",
    "        # Return the widget tree (just the button, in this case).\n",
    "        return label\n",
    "\n",
    "# Run the main windoow loop, which starts the program.\n",
    "ButtonApp().run()"
   ]
  },
  {
   "cell_type": "code",
   "execution_count": null,
   "metadata": {},
   "outputs": [],
   "source": []
  }
 ],
 "metadata": {
  "kernelspec": {
   "display_name": "Python 3",
   "language": "python",
   "name": "python3"
  },
  "pycharm": {
   "stem_cell": {
    "cell_type": "raw",
    "source": [
     "# Jupyter\n"
    ],
    "metadata": {
     "collapsed": false
    }
   }
  }
 },
 "nbformat": 4,
 "nbformat_minor": 1
}