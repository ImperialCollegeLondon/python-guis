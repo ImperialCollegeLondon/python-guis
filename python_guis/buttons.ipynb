{
 "cells": [
  {
   "cell_type": "markdown",
   "metadata": {},
   "source": [
    "# Common commands"
   ]
  },
  {
   "cell_type": "code",
   "execution_count": 3,
   "metadata": {
    "pycharm": {
     "is_executing": false
    }
   },
   "outputs": [],
   "source": [
    "# Add a function to be executted when the button is clicked. \n",
    "def my_print(b=None):\n",
    "    print(\"Hellow World!\")"
   ]
  },
  {
   "cell_type": "markdown",
   "metadata": {},
   "source": [
    "# Jupyter\n"
   ]
  },
  {
   "cell_type": "code",
   "execution_count": 3,
   "metadata": {
    "pycharm": {
     "name": "#%%\n"
    }
   },
   "outputs": [
    {
     "name": "stdout",
     "output_type": "stream",
     "text": [
      "['_dom_classes', '_model_module', '_model_module_version', '_model_name', '_view_count', '_view_module', '_view_module_version', '_view_name', 'button_style', 'description', 'disabled', 'icon', 'layout', 'style', 'tooltip']\n"
     ]
    },
    {
     "data": {
      "application/vnd.jupyter.widget-view+json": {
       "model_id": "4a633ff8b5294dbfa6c3bb89b9074a92",
       "version_major": 2,
       "version_minor": 0
      },
      "text/plain": [
       "Button(description='Click me', icon='check', style=ButtonStyle(), tooltip='Click me')"
      ]
     },
     "metadata": {},
     "output_type": "display_data"
    }
   ],
   "source": [
    "import ipywidgets as widgets\n",
    "from IPython.display import display\n",
    "\n",
    "# Button definition\n",
    "# https://ipywidgets.readthedocs.io/en/stable/examples/Widget%20List.html#Button\n",
    "button = widgets.Button(description='Click me')\n",
    "\n",
    "# Add callback to the button\n",
    "# https://ipywidgets.readthedocs.io/en/stable/examples/Widget%20Events.html#Special-events\n",
    "button.on_click(my_print)\n",
    "\n",
    "# Display the button.\n",
    "display(button)\n",
    "\n",
    "# The widget is displayed as soon as you execute the cell"
   ]
  },
  {
   "cell_type": "markdown",
   "metadata": {},
   "source": [
    "### WARNING: Tkinter and kivy _might_ freeze the kernel if executed within Jupyter.\n",
    "\n",
    "# Tkinter"
   ]
  },
  {
   "cell_type": "code",
   "execution_count": 3,
   "metadata": {
    "pycharm": {
     "is_executing": false
    }
   },
   "outputs": [],
   "source": [
    "import tkinter as tk\n",
    "from tkinter import ttk\n",
    "\n",
    "# Create main window.\n",
    "root = tk.Tk()\n",
    "\n",
    "# Create a button. The callback is added during creation. \n",
    "button = ttk.Button(master=root, text='Click me', command=my_print)\n",
    "\n",
    "# Display the button.\n",
    "button.grid()\n",
    "\n",
    "# Run the main window loop, which starts the program.\n",
    "root.mainloop()"
   ]
  },
  {
   "cell_type": "markdown",
   "metadata": {},
   "source": [
    "# Kivy\n"
   ]
  },
  {
   "cell_type": "code",
   "execution_count": 4,
   "metadata": {
    "pycharm": {
     "is_executing": false
    }
   },
   "outputs": [
    {
     "name": "stderr",
     "text": [
      "[INFO   ] [Base        ] Start application main loop\n",
      "[INFO   ] [GL          ] NPOT texture support is available\n",
      "[INFO   ] [WindowSDL   ] exiting mainloop and closing.\n",
      "[INFO   ] [Base        ] Leaving application in progress...\n"
     ],
     "output_type": "stream"
    },
    {
     "name": "stdout",
     "text": [
      "Hellow World!\n",
      "Hellow World!\n",
      "Hellow World!\n"
     ],
     "output_type": "stream"
    }
   ],
   "source": [
    "from kivy.config import Config\n",
    "# We don't want a fullscreen App here.\n",
    "Config.set('graphics', 'fullscreen', '0')\n",
    "\n",
    "from kivy.app import App\n",
    "from kivy.uix.button import Button\n",
    "\n",
    "        \n",
    "# Create main application.\n",
    "class ButtonApp(App):\n",
    "    def build(self):\n",
    "        \n",
    "        # Create a button.\n",
    "        # https://kivy.org/doc/stable/api-kivy.uix.button.html#\n",
    "        button = Button(text='Click me')\n",
    "        \n",
    "        # Add callback to the button.\n",
    "        button.bind(on_press=my_print)\n",
    "        \n",
    "        # Return the widget tree (just the button, in this case).\n",
    "        return button\n",
    "\n",
    "# Run the main windoow loop, which starts the program.\n",
    "ButtonApp().run()"
   ]
  },
  {
   "cell_type": "code",
   "execution_count": null,
   "metadata": {},
   "outputs": [],
   "source": []
  }
 ],
 "metadata": {
  "kernelspec": {
   "display_name": "Python 3",
   "language": "python",
   "name": "python3"
  },
  "pycharm": {
   "stem_cell": {
    "cell_type": "raw",
    "source": [],
    "metadata": {
     "collapsed": false
    }
   }
  }
 },
 "nbformat": 4,
 "nbformat_minor": 1
}