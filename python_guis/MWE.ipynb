{
 "cells": [
  {
   "cell_type": "markdown",
   "metadata": {},
   "source": [
    "# Jupyter Widgets"
   ]
  },
  {
   "cell_type": "code",
   "execution_count": null,
   "metadata": {},
   "outputs": [],
   "source": [
    "import ipywidgets as widgets\n",
    "from IPython.display import display\n",
    "\n",
    "def callback(l):\n",
    "    l.value = \"Hello Pythoners!\"\n",
    "\n",
    "# Create the widgets.\n",
    "button = widgets.Button(description='Click me')\n",
    "label = widgets.Label(value='')\n",
    "hbox = widgets.HBox()\n",
    "\n",
    "# Add them to a container. This includes setting their physical arrangement. \n",
    "hbox.children=[button, label]\n",
    "\n",
    "# Add the callback of the button.\n",
    "button.on_click(lambda *args: callback(label))\n",
    "\n",
    "# Display the top container.\n",
    "display(hbox)"
   ]
  },
  {
   "cell_type": "markdown",
   "metadata": {},
   "source": [
    "# Tkinter"
   ]
  },
  {
   "cell_type": "code",
   "execution_count": null,
   "metadata": {},
   "outputs": [],
   "source": [
    "import tkinter as tk\n",
    "from tkinter import ttk\n",
    "\n",
    "def callback(l):\n",
    "    l[\"text\"] = \"Hello Pythoners!\"\n",
    "\n",
    "# Create the widgets. This includes adding them to a container.\n",
    "root = tk.Tk()\n",
    "button = ttk.Button(master=root, text='Click me')\n",
    "label = ttk.Label(master=root, text='')\n",
    "\n",
    "# Create their physical arrangement.\n",
    "button.pack(side=tk.LEFT)\n",
    "label.pack(side=tk.LEFT)\n",
    "\n",
    "# Add the callback of the button.\n",
    "button.configure(command=lambda *args: callback(label))\n",
    "\n",
    "# Run the main window loop, which starts the program.\n",
    "root.mainloop()"
   ]
  },
  {
   "cell_type": "markdown",
   "metadata": {},
   "source": [
    "# Kivy"
   ]
  },
  {
   "cell_type": "code",
   "execution_count": 1,
   "metadata": {},
   "outputs": [
    {
     "name": "stderr",
     "output_type": "stream",
     "text": [
      "[INFO   ] [Logger      ] Record log in /Users/dalonsoa/.kivy/logs/kivy_19-07-04_1.txt\n",
      "[INFO   ] [Kivy        ] v1.11.1\n",
      "[INFO   ] [Kivy        ] Installed at \"/Users/dalonsoa/Documents/Projects/PYTHON-GUIS/venv/lib/python3.7/site-packages/kivy/__init__.py\"\n",
      "[INFO   ] [Python      ] v3.7.3 (default, Mar 27 2019, 09:23:15) \n",
      "[Clang 10.0.1 (clang-1001.0.46.3)]\n",
      "[INFO   ] [Python      ] Interpreter at \"/Users/dalonsoa/Documents/Projects/PYTHON-GUIS/venv/bin/python\"\n",
      "[INFO   ] [Logger      ] Purge log fired. Analysing...\n",
      "[INFO   ] [Logger      ] Purge 40 log files\n",
      "[INFO   ] [Logger      ] Purge finished!\n",
      "[INFO   ] [Factory     ] 184 symbols loaded\n",
      "[INFO   ] [Image       ] Providers: img_tex, img_imageio, img_dds, img_sdl2, img_gif (img_pil, img_ffpyplayer ignored)\n",
      "[INFO   ] [Text        ] Provider: sdl2\n",
      "[INFO   ] [Window      ] Provider: sdl2\n",
      "[INFO   ] [GL          ] Using the \"OpenGL ES 2\" graphics system\n",
      "[INFO   ] [GL          ] Backend used <sdl2>\n",
      "[INFO   ] [GL          ] OpenGL version <b'2.1 INTEL-12.9.22'>\n",
      "[INFO   ] [GL          ] OpenGL vendor <b'Intel Inc.'>\n",
      "[INFO   ] [GL          ] OpenGL renderer <b'Intel(R) Iris(TM) Plus Graphics 655'>\n",
      "[INFO   ] [GL          ] OpenGL parsed version: 2, 1\n",
      "[INFO   ] [GL          ] Shading version <b'1.20'>\n",
      "[INFO   ] [GL          ] Texture max size <16384>\n",
      "[INFO   ] [GL          ] Texture max units <16>\n",
      "[INFO   ] [Window      ] auto add sdl2 input provider\n",
      "[INFO   ] [Window      ] virtual keyboard not allowed, single mode, not docked\n",
      "[INFO   ] [Base        ] Start application main loop\n",
      "[INFO   ] [GL          ] NPOT texture support is available\n",
      "[INFO   ] [WindowSDL   ] exiting mainloop and closing.\n",
      "[INFO   ] [Base        ] Leaving application in progress...\n"
     ]
    }
   ],
   "source": [
    "from kivy.config import Config\n",
    "# We don't want a fullscreen App here.\n",
    "Config.set('graphics', 'fullscreen', '0')\n",
    "\n",
    "from kivy.app import App\n",
    "from kivy.uix.button import Button\n",
    "from kivy.uix.label import Label\n",
    "from kivy.uix.boxlayout import BoxLayout\n",
    "\n",
    "def callback(l):\n",
    "    l.text = \"Hello Pythoners!\"\n",
    "    \n",
    "# Create main application.\n",
    "class HelloApp(App):\n",
    "    def build(self):\n",
    "        \n",
    "        # Create the widgets.\n",
    "        hbox = BoxLayout()\n",
    "        button = Button(text='Click me')\n",
    "        label = Label(text='')\n",
    "        \n",
    "        # Add them to a container. This includes setting their physical arrangement. \n",
    "        hbox.add_widget(button)\n",
    "        hbox.add_widget(label)\n",
    "        \n",
    "        # Add the callback of the button.\n",
    "        button.bind(on_press=lambda *args: callback(label))\n",
    "        \n",
    "        # Return the top container\n",
    "        return hbox\n",
    "\n",
    "# Run the main windoow loop, which starts the program.\n",
    "HelloApp().run()"
   ]
  },
  {
   "cell_type": "code",
   "execution_count": null,
   "metadata": {},
   "outputs": [],
   "source": []
  },
  {
   "cell_type": "code",
   "execution_count": null,
   "metadata": {},
   "outputs": [],
   "source": []
  }
 ],
 "metadata": {
  "kernelspec": {
   "display_name": "Python 3",
   "language": "python",
   "name": "python3"
  },
  "language_info": {
   "codemirror_mode": {
    "name": "ipython",
    "version": 3
   },
   "file_extension": ".py",
   "mimetype": "text/x-python",
   "name": "python",
   "nbconvert_exporter": "python",
   "pygments_lexer": "ipython3",
   "version": "3.7.3"
  }
 },
 "nbformat": 4,
 "nbformat_minor": 2
}
