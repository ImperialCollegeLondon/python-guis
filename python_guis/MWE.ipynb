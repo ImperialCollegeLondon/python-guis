{
 "cells": [
  {
   "cell_type": "markdown",
   "metadata": {},
   "source": [
    "# Jupyter Widgets"
   ]
  },
  {
   "cell_type": "code",
   "execution_count": 1,
   "metadata": {},
   "outputs": [
    {
     "data": {
      "application/vnd.jupyter.widget-view+json": {
       "model_id": "576484c964f84d369e03f440c4613a16",
       "version_major": 2,
       "version_minor": 0
      },
      "text/plain": [
       "HBox(children=(Button(description='Click me', style=ButtonStyle()), Label(value='')))"
      ]
     },
     "metadata": {},
     "output_type": "display_data"
    }
   ],
   "source": [
    "import ipywidgets as widgets\n",
    "from IPython.display import display\n",
    "\n",
    "def callback(l):\n",
    "    l.value = \"Hello Pythoners!\"\n",
    "\n",
    "# Create the widgets.\n",
    "button = widgets.Button(description='Click me')\n",
    "label = widgets.Label(value='')\n",
    "hbox = widgets.HBox()\n",
    "\n",
    "# Add them to a container. This includes setting their physical arrangement. \n",
    "hbox.children=[button, label]\n",
    "\n",
    "# Add the callback of the button.\n",
    "button.on_click(lambda *args: callback(label))\n",
    "\n",
    "# Display the top container.\n",
    "display(hbox)"
   ]
  },
  {
   "cell_type": "markdown",
   "metadata": {},
   "source": [
    "# Tkinter"
   ]
  },
  {
   "cell_type": "code",
   "execution_count": null,
   "metadata": {},
   "outputs": [],
   "source": [
    "import tkinter as tk\n",
    "from tkinter import ttk\n",
    "\n",
    "def callback(l):\n",
    "    l[\"text\"] = \"Hello Pythoners!\"\n",
    "\n",
    "# Create the widgets. This includes adding them to a container.\n",
    "root = tk.Tk()\n",
    "button = ttk.Button(master=root, text='Click me')\n",
    "label = ttk.Label(master=root, text='')\n",
    "\n",
    "# Create their physical arrangement.\n",
    "button.pack(side=tk.LEFT)\n",
    "label.pack(side=tk.LEFT)\n",
    "\n",
    "# Add the callback of the button.\n",
    "button.configure(command=lambda *args: callback(label))\n",
    "\n",
    "# Run the main window loop, which starts the program.\n",
    "root.mainloop()"
   ]
  },
  {
   "cell_type": "markdown",
   "metadata": {},
   "source": [
    "# Kivy"
   ]
  },
  {
   "cell_type": "code",
   "execution_count": null,
   "metadata": {},
   "outputs": [],
   "source": [
    "from kivy.config import Config\n",
    "# We don't want a fullscreen App here.\n",
    "Config.set('graphics', 'fullscreen', '0')\n",
    "\n",
    "from kivy.app import App\n",
    "from kivy.uix.button import Button\n",
    "from kivy.uix.label import Label\n",
    "from kivy.uix.boxlayout import BoxLayout\n",
    "\n",
    "def callback(l):\n",
    "    l.text = \"Hello Pythoners!\"\n",
    "    \n",
    "# Create main application.\n",
    "class HelloApp(App):\n",
    "    def build(self):\n",
    "        \n",
    "        # Create the widgets.\n",
    "        hbox = BoxLayout()\n",
    "        button = Button(text='Click me')\n",
    "        label = Label(text='')\n",
    "        \n",
    "        # Add them to a container. This includes setting their physical arrangement. \n",
    "        hbox.add_widget(button)\n",
    "        hbox.add_widget(label)\n",
    "        \n",
    "        # Add the callback of the button.\n",
    "        button.bind(on_press=lambda *args: callback(label))\n",
    "        \n",
    "        # Return the top container\n",
    "        return hbox\n",
    "\n",
    "# Run the main windoow loop, which starts the program.\n",
    "HelloApp().run()"
   ]
  }
 ],
 "metadata": {
  "kernelspec": {
   "display_name": "Python 3",
   "language": "python",
   "name": "python3"
  },
  "language_info": {
   "codemirror_mode": {
    "name": "ipython",
    "version": 3
   },
   "file_extension": ".py",
   "mimetype": "text/x-python",
   "name": "python",
   "nbconvert_exporter": "python",
   "pygments_lexer": "ipython3",
   "version": "3.7.3"
  }
 },
 "nbformat": 4,
 "nbformat_minor": 2
}
